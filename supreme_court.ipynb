{
 "cells": [
  {
   "cell_type": "code",
   "execution_count": 3,
   "metadata": {},
   "outputs": [],
   "source": [
    "import numpy as np\n",
    "import pandas as pd\n",
    "import matplotlib.pyplot as plt\n",
    "import seaborn as sns\n",
    "sns.set()"
   ]
  },
  {
   "cell_type": "code",
   "execution_count": 7,
   "metadata": {},
   "outputs": [],
   "source": [
    "data = pd.read_csv('SCDB_2018_02_caseCentered_Citation.csv',encoding = \"ISO-8859-1\")"
   ]
  },
  {
   "cell_type": "code",
   "execution_count": null,
   "metadata": {},
   "outputs": [],
   "source": []
  },
  {
   "cell_type": "code",
   "execution_count": 11,
   "metadata": {},
   "outputs": [
    {
     "data": {
      "text/plain": [
       "['caseId',\n",
       " 'docketId',\n",
       " 'caseIssuesId',\n",
       " 'voteId',\n",
       " 'dateDecision',\n",
       " 'decisionType',\n",
       " 'usCite',\n",
       " 'sctCite',\n",
       " 'ledCite',\n",
       " 'lexisCite',\n",
       " 'term',\n",
       " 'naturalCourt',\n",
       " 'chief',\n",
       " 'docket',\n",
       " 'caseName',\n",
       " 'dateArgument',\n",
       " 'dateRearg',\n",
       " 'petitioner',\n",
       " 'petitionerState',\n",
       " 'respondent',\n",
       " 'respondentState',\n",
       " 'jurisdiction',\n",
       " 'adminAction',\n",
       " 'adminActionState',\n",
       " 'threeJudgeFdc',\n",
       " 'caseOrigin',\n",
       " 'caseOriginState',\n",
       " 'caseSource',\n",
       " 'caseSourceState',\n",
       " 'lcDisagreement',\n",
       " 'certReason',\n",
       " 'lcDisposition',\n",
       " 'lcDispositionDirection',\n",
       " 'declarationUncon',\n",
       " 'caseDisposition',\n",
       " 'caseDispositionUnusual',\n",
       " 'partyWinning',\n",
       " 'precedentAlteration',\n",
       " 'voteUnclear',\n",
       " 'issue',\n",
       " 'issueArea',\n",
       " 'decisionDirection',\n",
       " 'decisionDirectionDissent',\n",
       " 'authorityDecision1',\n",
       " 'authorityDecision2',\n",
       " 'lawType',\n",
       " 'lawSupp',\n",
       " 'lawMinor',\n",
       " 'majOpinWriter',\n",
       " 'majOpinAssigner',\n",
       " 'splitVote',\n",
       " 'majVotes',\n",
       " 'minVotes']"
      ]
     },
     "execution_count": 11,
     "metadata": {},
     "output_type": "execute_result"
    }
   ],
   "source": []
  },
  {
   "cell_type": "code",
   "execution_count": 12,
   "metadata": {},
   "outputs": [],
   "source": []
  },
  {
   "cell_type": "code",
   "execution_count": 14,
   "metadata": {},
   "outputs": [],
   "source": []
  },
  {
   "cell_type": "code",
   "execution_count": 24,
   "metadata": {},
   "outputs": [],
   "source": []
  },
  {
   "cell_type": "code",
   "execution_count": 26,
   "metadata": {},
   "outputs": [],
   "source": [
    "pre1980 = data[ data['term'] < 1980 ]"
   ]
  },
  {
   "cell_type": "code",
   "execution_count": 96,
   "metadata": {},
   "outputs": [],
   "source": [
    "post1980 = data[data['term'] >= 1980]"
   ]
  },
  {
   "cell_type": "code",
   "execution_count": 28,
   "metadata": {},
   "outputs": [],
   "source": [
    "#We can Plot the "
   ]
  },
  {
   "cell_type": "code",
   "execution_count": 97,
   "metadata": {},
   "outputs": [
    {
     "data": {
      "text/plain": [
       "<matplotlib.axes._subplots.AxesSubplot at 0x12d3c99d0>"
      ]
     },
     "execution_count": 97,
     "metadata": {},
     "output_type": "execute_result"
    },
    {
     "data": {
      "image/png": "[encoded data removed]",
      "text/plain": [
       "<Figure size 432x288 with 1 Axes>"
      ]
     },
     "metadata": {},
     "output_type": "display_data"
    }
   ],
   "source": [
    "plt.title('1946 - 1979 Majority distribution')\n",
    "plt.xlabel('Justices')\n",
    "plt.ylabel('Fractional number of case')\n",
    "pre1980_normal = pre1980['majVotes'].value_counts().sort_index()/sum(pre1980['majVotes'].value_counts().sort_index())\n",
    "pre1980_normal.plot(kind='bar')"
   ]
  },
  {
   "cell_type": "code",
   "execution_count": 98,
   "metadata": {},
   "outputs": [
    {
     "data": {
      "text/plain": [
       "<matplotlib.axes._subplots.AxesSubplot at 0x12f612cd0>"
      ]
     },
     "execution_count": 98,
     "metadata": {},
     "output_type": "execute_result"
    },
    {
     "data": {
      "image/png": "[encoded data removed]",
      "text/plain": [
       "<Figure size 432x288 with 1 Axes>"
      ]
     },
     "metadata": {},
     "output_type": "display_data"
    }
   ],
   "source": [
    "plt.title('1980 - 2017 Majority distribution')\n",
    "plt.xlabel('Justices')\n",
    "plt.ylabel('Fractional number of case')\n",
    "post1980_normal = post1980['majVotes'].value_counts().sort_index()/sum(post1980['majVotes'].value_counts().sort_index())\n",
    "post1980_normal.plot(kind='bar')"
   ]
  },
  {
   "cell_type": "code",
   "execution_count": null,
   "metadata": {},
   "outputs": [],
   "source": [
    "#Let us look at the averge number of justices in the majority and minorty pre1980"
   ]
  },
  {
   "cell_type": "code",
   "execution_count": 92,
   "metadata": {},
   "outputs": [],
   "source": [
    "pre1980_major = pre1980['majVotes']\n",
    "pre1980_minor = pre1980['minVotes']\n",
    "pre1980_maj_avg = np.average(pre1980_major)\n",
    "pre1980_min_avg =np.average(pre1980_minor)\n",
    "\n",
    "post1980_major = post1980['majVotes']\n",
    "post1980_minor = post1980['minVotes']\n",
    "post1980_maj_avg = np.average(post1980_major)\n",
    "post1980_min_avg =np.average(post1980_minor)"
   ]
  },
  {
   "cell_type": "code",
   "execution_count": 94,
   "metadata": {},
   "outputs": [
    {
     "data": {
      "text/plain": [
       "(7.00331468821214, 1.5769629169256267)"
      ]
     },
     "execution_count": 94,
     "metadata": {},
     "output_type": "execute_result"
    }
   ],
   "source": [
    "pre1980_maj_avg,pre1980_min_avg"
   ]
  },
  {
   "cell_type": "code",
   "execution_count": 95,
   "metadata": {},
   "outputs": [
    {
     "data": {
      "text/plain": [
       "(7.212739793408756, 1.5907525823905557)"
      ]
     },
     "execution_count": 95,
     "metadata": {},
     "output_type": "execute_result"
    }
   ],
   "source": [
    "post1980_maj_avg,post1980_min_avg"
   ]
  },
  {
   "cell_type": "code",
   "execution_count": null,
   "metadata": {},
   "outputs": [],
   "source": []
  },
  {
   "cell_type": "code",
   "execution_count": null,
   "metadata": {},
   "outputs": [],
   "source": []
  }
 ],
 "metadata": {
  "kernelspec": {
   "display_name": "Python 3",
   "language": "python",
   "name": "python3"
  },
  "language_info": {
   "codemirror_mode": {
    "name": "ipython",
    "version": 3
   },
   "file_extension": ".py",
   "mimetype": "text/x-python",
   "name": "python",
   "nbconvert_exporter": "python",
   "pygments_lexer": "ipython3",
   "version": "3.7.4"
  }
 },
 "nbformat": 4,
 "nbformat_minor": 2
}
